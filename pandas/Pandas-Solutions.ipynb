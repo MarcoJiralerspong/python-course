{
 "cells": [
  {
   "cell_type": "code",
   "execution_count": 1,
   "metadata": {},
   "outputs": [],
   "source": [
    "# Setup\n",
    "import pandas as pd\n",
    "\n",
    "csv_df = pd.read_csv(\"dpyd_variants.csv\")\n",
    "\n",
    "pathogenic_signatures = [\"pathogenic\", \"drug_response\", \"Likely_pathogenic\", \"Pathogenic/Likely_pathogenic\"]"
   ]
  },
  {
   "cell_type": "code",
   "execution_count": 2,
   "metadata": {},
   "outputs": [],
   "source": [
    "# Series Creation\n",
    "genes = [\"CHD5\", \"CLIC4\", \"CRYZ\", \"DVL1\", \"ENO1\", \"GBP1\", \"RHOC\"]\n",
    "\n",
    "gene_series = pd.Series(genes)"
   ]
  },
  {
   "cell_type": "code",
   "execution_count": 3,
   "metadata": {},
   "outputs": [
    {
     "name": "stdout",
     "output_type": "stream",
     "text": [
      "0     CHD5\n",
      "1    CLIC4\n",
      "dtype: object\n",
      "\n",
      "1    CLIC4\n",
      "2     CRYZ\n",
      "3     DVL1\n",
      "dtype: object\n",
      "\n",
      "5    GBP1\n",
      "6    RHOC\n",
      "dtype: object\n",
      "\n",
      "ENO1\n"
     ]
    }
   ],
   "source": [
    "# Series Access\n",
    "print(gene_series.iloc[:2])\n",
    "print()\n",
    "print(gene_series.iloc[1:4])\n",
    "print()\n",
    "print(gene_series.iloc[-2:])\n",
    "print()\n",
    "print(gene_series.iloc[-3])"
   ]
  },
  {
   "cell_type": "code",
   "execution_count": 4,
   "metadata": {},
   "outputs": [],
   "source": [
    "# Dataframe Creation\n",
    "\n",
    "# List of dicts\n",
    "variant_dicts = [\n",
    "    {\"Variant ID\": \"1-97544568-CTT-C\", \"LOF\": \"LC\", \"AC\": 1, \"AN\": 251168},\n",
    "    {\"Variant ID\": \"1-97544576-C-A\", \"LOF\": \"LC\", \"AC\": 5, \"AN\": 251214},\n",
    "    {\"Variant ID\": \"1-97544578-T-TA\", \"LOF\": \"LC\", \"AC\": 2, \"AN\": 251218},\n",
    "    {\"Variant ID\": \"1-97544673-CA-C\", \"LOF\": \"HC\", \"AC\": 1, \"AN\": 251346},\n",
    "]\n",
    "variants = pd.DataFrame(variant_dicts)\n",
    "# Dict of lists\n",
    "dict_variants = {\n",
    "    \"Variant ID\": [\n",
    "        \"1-97544568-CTT-C\",\n",
    "        \"1-97544576-C-A\",\n",
    "        \"1-97544578-T-TA\",\n",
    "        \"1-97544673-CA-C\",\n",
    "    ],\n",
    "    \"LOF\": [\"LC\", \"LC\", \"LC\", \"HC\"],\n",
    "    \"AC\": [1, 5, 2, 1],\n",
    "    \"AN\": [251168, 251214, 251218, 251346],\n",
    "}\n",
    "variants = pd.DataFrame(dict_variants)"
   ]
  },
  {
   "cell_type": "code",
   "execution_count": 10,
   "metadata": {},
   "outputs": [
    {
     "name": "stdout",
     "output_type": "stream",
     "text": [
      "                  AC      AN\n",
      "Variant ID                  \n",
      "1-97544568-CTT-C   1  251168\n",
      "1-97544576-C-A     5  251214\n",
      "1-97544578-T-TA    2  251218\n",
      "1-97544673-CA-C    1  251346\n",
      "\n",
      "                LOF  AC      AN\n",
      "Variant ID                     \n",
      "1-97544576-C-A   LC   5  251214\n",
      "1-97544578-T-TA  LC   2  251218\n",
      "\n",
      "LOF        LC\n",
      "AC          1\n",
      "AN     251168\n",
      "Name: 1-97544568-CTT-C, dtype: object\n",
      "\n",
      "                  AC      AN\n",
      "Variant ID                  \n",
      "1-97544568-CTT-C   1  251168\n",
      "1-97544576-C-A     5  251214\n"
     ]
    }
   ],
   "source": [
    "# Dataframe Access\n",
    "variants.set_index(\"Variant ID\", inplace=True)\n",
    "# or variants = variants.set_index(\"Variant ID\") if not using inplace\n",
    "\n",
    "print(variants[[\"AC\", \"AN\"]])\n",
    "print()\n",
    "print(variants.iloc[1:3])\n",
    "print()\n",
    "print(variants.loc[\"1-97544568-CTT-C\"])\n",
    "print()\n",
    "print(variants.iloc[:2][[\"AC\", \"AN\"]])\n"
   ]
  },
  {
   "cell_type": "code",
   "execution_count": 11,
   "metadata": {},
   "outputs": [],
   "source": [
    "# Dataframe Modification\n",
    "def to_percentage(proportion):\n",
    "    return proportion * 1000000\n",
    "\n",
    "\n",
    "variants[\"CLIN_SIG\"] = [\"None\", \"None\", \"Uncertain\", \"None\"]\n",
    "variants[\"AF\"] = variants[\"AC\"] / variants[\"AN\"]\n",
    "variants[\"AF\"] = variants[\"AF\"].apply(to_percentage)\n",
    "variants.sort_values(by = [\"AF\"], inplace = True)"
   ]
  },
  {
   "cell_type": "code",
   "execution_count": 14,
   "metadata": {},
   "outputs": [
    {
     "name": "stdout",
     "output_type": "stream",
     "text": [
      "[nan 'LC' 'HC' 'OS']\n",
      "(76376, 26)\n"
     ]
    }
   ],
   "source": [
    "# Undertanding a Dataset\n",
    "csv_df.describe() # 1\n",
    "print(csv_df[\"LOF\"].unique()) # nan, LC, HC, OS\n",
    "print(csv_df.shape) # 26"
   ]
  },
  {
   "cell_type": "code",
   "execution_count": 19,
   "metadata": {},
   "outputs": [],
   "source": [
    "# Dataframe Filtering\n",
    "csv_df[\"AF\"] = csv_df[\"AC\"] / csv_df[\"AN\"]\n",
    "\n",
    "common = csv_df[\"AF\"] > 0.01\n",
    "\n",
    "common_df = csv_df[common]\n",
    "\n",
    "problematic = (csv_df[\"FILTER\"] == \"None\") & (\n",
    "    (csv_df[\"CLIN_SIG\"].isin(pathogenic_signatures))\n",
    "    | (csv_df[\"LOF\"] == \"HC\")\n",
    "    | (csv_df[\"INESSS\"] == \"True\")\n",
    ")\n",
    "\n",
    "problematic_df = csv_df[problematic]"
   ]
  },
  {
   "cell_type": "code",
   "execution_count": 27,
   "metadata": {},
   "outputs": [],
   "source": [
    "# Final Exercise\n",
    "variants = pd.read_csv(\"dpyd_variants.csv\")\n",
    "\n",
    "variants = variants[variants[\"FILTER\"] == \"None\"]\n",
    "\n",
    "pathogenic_signatures = [\"pathogenic\", \"drug_response\", \"Likely_pathogenic\", \"Pathogenic/Likely_pathogenic\"]\n",
    "lofs = [\"HC\", \"LC\"]\n",
    "\n",
    "pathogenicity = (variants[\"INESSS\"] == \"True\") | (variants[\"CLIN_SIG\"].isin(pathogenic_signatures))| (variants[\"LOF\"].isin(lofs))\n",
    "variants = variants[pathogenicity]\n",
    "\n",
    "variants[\"AF\"] = variants[\"AC\"]/ variants[\"AN\"]\n",
    "\n",
    "populations = [\"eas\", \"afr\", \"amr\", \"asj\", \"sas\", \"nfe\", \"fin\"]\n",
    "for population in populations:\n",
    "    variants[\"AF_\" + population] = variants[\"AC_\" + population]/variants[\"AN_\" + population]\n",
    "\n",
    "variants.to_csv(\"filtered_variants.csv\")"
   ]
  }
 ],
 "metadata": {
  "kernelspec": {
   "display_name": "Python 3",
   "language": "python",
   "name": "python3"
  },
  "language_info": {
   "codemirror_mode": {
    "name": "ipython",
    "version": 3
   },
   "file_extension": ".py",
   "mimetype": "text/x-python",
   "name": "python",
   "nbconvert_exporter": "python",
   "pygments_lexer": "ipython3",
   "version": "3.7.3"
  }
 },
 "nbformat": 4,
 "nbformat_minor": 2
}
