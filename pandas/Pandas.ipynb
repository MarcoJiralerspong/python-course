{
 "cells": [
  {
   "cell_type": "markdown",
   "metadata": {},
   "source": [
    "# **PYTHON FOR BIOLOGISTS 2: USING PANDAS**\n",
    "The rest of the course will use a Jupyter Notebook. If you haven't yet, make sure to go to `Help > User Interface Tour` to familiarize yourself with the different elements of a notebook.\n",
    "\n",
    "Jupyter notebooks are composed of **cells**. These cells come in two varieties: code and text. Text cells contain formatted text (this is a text cell) while code cells contain Python code that can be run either by selecting the cell and clicking on the run button or by using the keys `CTRL + Enter`. \n",
    "\n",
    "Running the code executes the Python code. Let's give it a try. The cell below contains Python code to make the notebook a bit prettier. Click on it and then run it."
   ]
  },
  {
   "cell_type": "code",
   "execution_count": null,
   "metadata": {},
   "outputs": [],
   "source": [
    "from IPython.display import display, HTML\n",
    "\n",
    "display(HTML(data=\"\"\"\n",
    "<style>\n",
    "    div.cell h1,div.cell h2,div.cell h3,div.cell h4,div.cell h5,div.cell p,div.cell li{font-family: \"Times New Roman\", sans-serif; color: #444}\n",
    "    .rendered_html code{font-size: 14px;}\n",
    "    div.cell p, div.cell li{line-height: 1.6; font-size: 18px; color: #444}\n",
    "    div.code_cell{padding: 24px 16px;}\n",
    "    div.prompt{display: none;}\n",
    "    div.cell{width: 65%; max-width: 720px; margin: auto}\n",
    "    .rendered_html h1{font-size: 32px;}\n",
    "    .rendered_html h2{font-size: 28px;}\n",
    "    .rendered_html h3{font-size: 24px;}\n",
    "</style>\n",
    "\"\"\"))"
   ]
  },
  {
   "cell_type": "markdown",
   "metadata": {},
   "source": [
    "You should see some minor cosmetic changes that make the notebook easier to read. Running a cell will display the output of the code (e.g. if something is printed below the cell). Additionally, any variables that are created will be saved in memory. \n",
    "\n",
    "For this reason, it's important to run each code cell in this notebook in order. For example, if we were to skip the cell that imports `pandas` below and then run another cell that uses `pandas`, we'd get an error.\n",
    "\n",
    "Finally, code cells can be modified. It's highly encouraged to make some changes to the code cells below and experiment with their effects."
   ]
  },
  {
   "cell_type": "markdown",
   "metadata": {},
   "source": [
    "# Pandas Basics\n",
    "\n",
    "`pandas` offers enormous amounts of functionality for dealing with data. We'll start by going over the basic objects that `pandas` uses before exploring the most important functions it contains.\n",
    "\n",
    "## Setting up pandas\n",
    "With `pandas` installed through Anaconda, we now need to import it. By default, to remove unnecessary overhead, Python doesn't initialize all external libraries we have.\n",
    "\n",
    "Instead, we need to specify the ones we want to use by importing them as follows:\n",
    "\n",
    "```python\n",
    "import <library name> as <nickname>\n",
    "```\n",
    "\n",
    "In the case of `pandas`, we'll add the line below (be sure to run it!):\n"
   ]
  },
  {
   "cell_type": "code",
   "execution_count": null,
   "metadata": {},
   "outputs": [],
   "source": [
    "import pandas as pd"
   ]
  },
  {
   "cell_type": "markdown",
   "metadata": {},
   "source": [
    "We can think of the import line as creating a variable called `pd` that stores a `pandas` object with all its associated methods.\n",
    "\n",
    "From now on, if we want to use a `pandas` method, we'll use the following syntax:\n",
    "\n",
    "```python\n",
    "pd.<method name>(<arguments>)\n",
    "```\n",
    "\n",
    "Similarly, if we wanted to write a script, we'd put the `import pandas` line at the top so that it would be run before the rest of the script."
   ]
  },
  {
   "cell_type": "markdown",
   "metadata": {},
   "source": [
    "# Series\n",
    "\n",
    "A pandas `Series` is the simplest `pandas` object, consisting of a one-dimensional collection where each entry has an associated index (kind of like a dictionary)."
   ]
  },
  {
   "cell_type": "markdown",
   "metadata": {},
   "source": [
    "### Creating a `Series`\n",
    "To create a `Series` object, we use the `pd.Series()` method and pass it a `data` argument. If we pass it a list, it will create a `Series` where the indices are simply integers (from 0 to the length of the list). If you pass it a dictionary, the labels will be the keys.\n",
    "\n",
    "``` python\n",
    "# Creating a Series and assigning it to a variable\n",
    "<variable name> = pd.Series(<data object>)\n",
    "```"
   ]
  },
  {
   "cell_type": "code",
   "execution_count": null,
   "metadata": {},
   "outputs": [],
   "source": [
    "# Using a list\n",
    "list_series = pd.Series([\"A\", \"B\", \"C\"])\n",
    "\n",
    "# Using a dictionary\n",
    "dictionary_series = pd.Series({\"A\": \"Anne\", \"B\": \"Bob\", \"C\": \"Charles\"})\n",
    "\n",
    "print(list_series)\n",
    "print() # Printing blank line\n",
    "print(dictionary_series)"
   ]
  },
  {
   "cell_type": "markdown",
   "metadata": {},
   "source": [
    "Printing the `Series` gives us a good idea of the structure, with the column at the left representing the indices and the column on the right representing the values."
   ]
  },
  {
   "cell_type": "markdown",
   "metadata": {},
   "source": [
    "It is also possible to update the values of the indices of a `Series`. This can be done with the command\n",
    "\n",
    "```python\n",
    "<series object>.index = <list of new label values>\n",
    "```"
   ]
  },
  {
   "cell_type": "code",
   "execution_count": null,
   "metadata": {},
   "outputs": [],
   "source": [
    "# For example\n",
    "dictionary_series.index = [0, 1, 2]\n",
    "\n",
    "print(dictionary_series)"
   ]
  },
  {
   "cell_type": "markdown",
   "metadata": {},
   "source": [
    "<div style=\"background-color:#e8f1ff; padding: 20px;box-shadow: 0 4px 8px 0 rgba(0,0,0,0.2);\n",
    "  transition: 0.3s;\"> \n",
    "<h2 style=\"margin:0; text-align: center\">EXERCISE: SERIES CREATION</h2>\n",
    "\n",
    "In the code cell below:\n",
    "1. Create a list called `genes` with the following elements: \"CHD5\", \"CLIC4\", \"CRYZ\", \"DVL1\", \"ENO1\", \"GBP1\" and \"RHOC\".\n",
    "2. Create a `Series` out of that list called `genes_series`.\n",
    "</div>"
   ]
  },
  {
   "cell_type": "code",
   "execution_count": null,
   "metadata": {},
   "outputs": [],
   "source": [
    "# EXERCISE: SERIES CREATION (Write your code here!)\n"
   ]
  },
  {
   "cell_type": "markdown",
   "metadata": {},
   "source": [
    "### Access\n",
    "Accessing individual elements in a `Series` can be done using two functions: `loc` and `iloc`. The general idea is that if we want to search by **position** (the position of the entry in the `Series`), we use `iloc` and if we want to search by **index** (the key associated to the value), we use `loc`.\n",
    "\n",
    "Consider the following `Series` created from a dictionary of Canadian provinces and associated capitals. Here, the names of the provinces are the indices while the positions would be 0, 1, 2, etc. "
   ]
  },
  {
   "cell_type": "code",
   "execution_count": null,
   "metadata": {},
   "outputs": [],
   "source": [
    "dict = {\n",
    "    \"Quebec\": \"Quebec City\",\n",
    "    \"Ontario\": \"Toronto\",\n",
    "    \"British Columbia\": \"Vancouver\",\n",
    "    \"Saskatchewan\": \"Regina\",\n",
    "    \"Alberta\": \"Calgary\"\n",
    "}\n",
    "\n",
    "series = pd.Series(dict)\n",
    "print(series)"
   ]
  },
  {
   "cell_type": "markdown",
   "metadata": {},
   "source": [
    "Then, using iloc, we can access the third element with `series.iloc[2]` (remember indexing starts at 0!). We can also access specific subsets of the `Series` using the following syntax:\n",
    "\n",
    "```python\n",
    "# All the elements from beginning index up to end index (not included)\n",
    "<series object>.iloc[<beginning index>:<end index>] \n",
    "\n",
    "# All the elements from the beginning of the series till the end index (not included)\n",
    "<series object>[:<end index>]\n",
    "\n",
    "# All elements from the beginning index (included) till the end of the series\n",
    "<series object>[<beginning index>:] \n",
    "\n",
    "<series object>[-1] # Access the last element of the Series\n",
    "<series object>[-2] # Access the next to last element of the Series\n",
    "...\n",
    "```\n",
    "For example:"
   ]
  },
  {
   "cell_type": "code",
   "execution_count": null,
   "metadata": {},
   "outputs": [],
   "source": [
    "print(series.iloc[1:3]) # Returns a Series only including the values at index 1 and 2 (3 is not included)\n",
    "print()\n",
    "print(series.iloc[:3]) # Includes elements at index 0, 1 and 2\n",
    "print()\n",
    "print(series.iloc[3:]) # Includes elements at index 3 and 4\n",
    "print()\n",
    "print(series.iloc[-2]) # Access the next to last element of the Series"
   ]
  },
  {
   "cell_type": "markdown",
   "metadata": {},
   "source": [
    "On the other hand, using `.loc`, we can access an element with a certain label. A similar syntax as above can also be used to get specific subsets:"
   ]
  },
  {
   "cell_type": "code",
   "execution_count": null,
   "metadata": {},
   "outputs": [],
   "source": [
    "print(series.loc[\"Quebec\"]) # Returns the element with label \"Quebec\"\n",
    "print()\n",
    "print(series.loc[:\"Saskatchewan\"]) # Returns series with all the elements up till the one with label \"Regina\"\n",
    "print()\n",
    "print(series.loc[\"Ontario\": \"Saskatchewan\"]) # Returns series with elements between those with labels \"Ontario\" and \"Saskatchewan\""
   ]
  },
  {
   "cell_type": "markdown",
   "metadata": {},
   "source": [
    "<div style=\"background-color:#e8f1ff; padding: 20px;box-shadow: 0 4px 8px 0 rgba(0,0,0,0.2);\n",
    "  transition: 0.3s;\"> \n",
    "<h2 style=\"margin:0; text-align: center\">EXERCISE: ACCESS</h2>\n",
    "\n",
    "In the code cell below:\n",
    "1. Print a `Series` with the first 2 elements of `series`.\n",
    "2. Print a `Series` with elements 2 through 4 of the `series`, inclusively.\n",
    "3. Print a `Series` with the last 2 elements of `series`.\n",
    "4. Print the next to, next to last element of `series`.\n",
    "</div>"
   ]
  },
  {
   "cell_type": "code",
   "execution_count": null,
   "metadata": {},
   "outputs": [],
   "source": [
    "# EXERCISE: ACCESS"
   ]
  },
  {
   "cell_type": "markdown",
   "metadata": {},
   "source": [
    "### Adding elements\n",
    "While it is possible to add elements to a `Series` using the `append` function, it is not recommended to do so since doing so requires copying all elements of the `Series`. It is particularly inefficient if you want to add multiple elements one by one."
   ]
  },
  {
   "cell_type": "code",
   "execution_count": null,
   "metadata": {},
   "outputs": [],
   "source": [
    "# We first create both series and append one to the end of the other\n",
    "series_1 = pd.Series([1, 2, 3])\n",
    "series_2 = pd.Series([4, 5, 6])\n",
    "\n",
    "new_series = series_1.append(series_2)\n",
    "print(new_series)"
   ]
  },
  {
   "cell_type": "markdown",
   "metadata": {},
   "source": [
    "# DataFrames\n",
    "\n",
    "A `DataFrame` is one dimension above a `Series`. The easiest way to think of it is as an Excel table (i.e. a set of rows, each with a bunch of values that comprise the columns of the table).\n",
    "\n",
    "For example, we could have a variant table where each row is a different variant. Each variant has associated columns such as its ID, the associated gene, the position, etc.\n",
    "\n",
    "This similarity with Excel tables, is in part why it's so easy to import an Excel table into a `DataFrame`."
   ]
  },
  {
   "cell_type": "markdown",
   "metadata": {},
   "source": [
    "### Creating a DataFrame\n",
    "\n",
    "Since a `DataFrame` is two-dimensional and not one-dimensional like a `Series`, we need to rethink how we pass data to create them.\n",
    "\n",
    "Going back to the example of variants, depending on how our data is structured, we can either pass a list of dictionaries (or dictionary of dictionaries if we want to specify the index) or a dictionary of lists to create a `DataFrame`."
   ]
  },
  {
   "cell_type": "code",
   "execution_count": null,
   "metadata": {},
   "outputs": [],
   "source": [
    "# List of dictionaries, each dictionary is a variant where keys are the columns, as below\n",
    "dicts = [\n",
    "    {\"id\": \"var_01\", \"gene\": \"DPYD\", \"position\": 10000},\n",
    "    {\"id\": \"var_02\", \"gene\": \"DPYD\", \"position\": 20000},\n",
    "    {\"id\": \"var_03\", \"gene\": \"DPYD\", \"position\": 30000},\n",
    "]\n",
    "# Create the corresponding dataframe with from_dict\n",
    "df = pd.DataFrame.from_dict(dicts)\n",
    "print(df)\n",
    "print()\n",
    "\n",
    "\n",
    "# Dictionary of lists, where each key is a column and the associated values are the lists of values\n",
    "dict = {\n",
    "    \"id\": [\"var_01\", \"var_02\", \"var_03\"],\n",
    "    \"gene\": [\"DPYD\", \"DPYD\", \"DPYD\"],\n",
    "    \"position\": [10000, 20000, 30000]\n",
    "}\n",
    "\n",
    "# Create the corresponding dataframe with from_dict\n",
    "df = pd.DataFrame.from_dict(dicts)\n",
    "print(df)"
   ]
  },
  {
   "cell_type": "markdown",
   "metadata": {},
   "source": [
    "Both examples yield the same `DataFrame` in the end, as we can see by printing both of them.\n",
    "\n",
    "\n",
    "### Renaming Columns\n",
    "To rename columns, we can use the `.rename()` method.\n",
    "\n",
    "```python\n",
    "<dataframe object>.rename(columns = <mapping of old column names to new column names>, inplace=True)\n",
    "```\n",
    "For example:"
   ]
  },
  {
   "cell_type": "code",
   "execution_count": null,
   "metadata": {},
   "outputs": [],
   "source": [
    "df.rename(columns = {\"id\": \"ID\", \"gene\": \"Gene\", \"position\": \"Position\"}, inplace = True)\n",
    "print(df)"
   ]
  },
  {
   "cell_type": "markdown",
   "metadata": {},
   "source": [
    "We need to use a dictionary to specify a mapping from old column names (keys) to new column names (values)."
   ]
  },
  {
   "cell_type": "markdown",
   "metadata": {},
   "source": [
    ">### Aside: Inplace operations \n",
    ">As we see more and more operations that pertain to the modification of dataframes, we need to be conscious of how these operations deal with our existing dataframe.\n",
    ">\n",
    ">There are 2 main ways to modify a `DataFrame`: \n",
    "> - Storing the object returned by the method.\n",
    "> - Performing the operation inplace.\n",
    ">\n",
    ">With the former, we have some initial dataframe which we then use some method on (for example to add a row). This method returns a version of the initial dataframe **after the modification**. To make use of this new dataframe, **we need to store it in a variable**.\n",
    ">\n",
    ">As for inplace operations, using the method **modifies the initial dataframe**. The variable to which that dataframe was initially assigned will then have as object a modified version of the initial dataframe.\n",
    ">\n",
    ">To perform the operation inplace, we usually need to pass `inplace=True` as argument to the method."
   ]
  },
  {
   "cell_type": "code",
   "execution_count": null,
   "metadata": {},
   "outputs": [],
   "source": [
    "# First method\n",
    "new_df = df.rename(columns = {\"ID\": \"id\", \"Gene\": \"gene\", \"Position\": \"position\"})\n",
    "\n",
    "print(df)\n",
    "print()\n",
    "print(new_df) # Here, the method returns the new dataframe object that we then assign to the variable new_df\n",
    "print()\n",
    "\n",
    "# Second method\n",
    "df.rename(columns = {\"ID\": \"id\", \"Gene\": \"gene\", \"Position\": \"position\"}, inplace = True)\n",
    "print(df) # Here, df itself is modified"
   ]
  },
  {
   "cell_type": "markdown",
   "metadata": {},
   "source": [
    "<div style=\"background-color:#e8f1ff; padding: 20px;box-shadow: 0 4px 8px 0 rgba(0,0,0,0.2);\n",
    "  transition: 0.3s;\"> \n",
    "<h2 style=\"margin:0; text-align: center\">EXERCISE: DATAFRAME CREATION</h2>\n",
    "\n",
    "In the code cell below:\n",
    "1. Create a `DataFrame` called `variants` that contains the following rows/columns (use strings for the first 2 columns and integers for the last 2).\n",
    "2. Make sure the columns have the appropriate names.\n",
    "\n",
    "| Variant ID       | LOF | AC | AN     |\n",
    "|------------------|-----|----|--------|\n",
    "| 1-97544568-CTT-C | LC  | 1  | 251168 |\n",
    "| 1-97544576-C-A   | LC  | 5  | 251214 |\n",
    "| 1-97544578-T-TA  | LC  | 2  | 251218 |\n",
    "| 1-97544673-CA-C  | HC  | 1  | 251346 |\n",
    "\n",
    "</div>"
   ]
  },
  {
   "cell_type": "code",
   "execution_count": null,
   "metadata": {},
   "outputs": [],
   "source": [
    "# DATAFRAME CREATION"
   ]
  },
  {
   "cell_type": "markdown",
   "metadata": {},
   "source": [
    "### Accessing Columns and Rows\n",
    "\n",
    "Columns are accessed using `[<column name>]` after the `DataFrame` object:"
   ]
  },
  {
   "cell_type": "code",
   "execution_count": null,
   "metadata": {},
   "outputs": [],
   "source": [
    "print(df[\"gene\"]) # Returns the Gene column as a Series"
   ]
  },
  {
   "cell_type": "markdown",
   "metadata": {},
   "source": [
    "A list of columns can be accessed in a similar way by passing a list of column names instead of a single column name."
   ]
  },
  {
   "cell_type": "code",
   "execution_count": null,
   "metadata": {},
   "outputs": [],
   "source": [
    "print(df[[\"gene\", \"position\"]]) # Returns DataFrame with only those 2 columns"
   ]
  },
  {
   "cell_type": "markdown",
   "metadata": {},
   "source": [
    "To access rows, a similar syntax to Series is used (`loc()` and `iloc()`). For example, to access the first row, we would use:\n"
   ]
  },
  {
   "cell_type": "code",
   "execution_count": null,
   "metadata": {},
   "outputs": [],
   "source": [
    "print(df.iloc[0])\n",
    "print()\n",
    "print(df.iloc[:2]) # Get first 2 rows"
   ]
  },
  {
   "cell_type": "markdown",
   "metadata": {},
   "source": [
    "The syntax for more complex subsets of the data is the same (i.e. using `:`).\n",
    "\n",
    "As for `loc()`, it is still used to access rows by label. However, so far the dataframe we created is still using numbers to label rows. To modify the labels of the dataframe, we can use the `set_index()` method. It takes as argument the name of the column we want to set as label. For example:"
   ]
  },
  {
   "cell_type": "code",
   "execution_count": null,
   "metadata": {},
   "outputs": [],
   "source": [
    "df.set_index('id', inplace=True)\n",
    "print(df)"
   ]
  },
  {
   "cell_type": "markdown",
   "metadata": {},
   "source": [
    "will set the labels of the rows to be their associated `id` while simultaneously removing the `id` column from the dataframe."
   ]
  },
  {
   "cell_type": "markdown",
   "metadata": {},
   "source": [
    "<div style=\"background-color:#e8f1ff; padding: 20px;box-shadow: 0 4px 8px 0 rgba(0,0,0,0.2);\n",
    "  transition: 0.3s;\"> \n",
    "<h2 style=\"margin:0; text-align: center\">EXERCISE: DATAFRAME ACCESS</h2>\n",
    "\n",
    "In the code cell below:\n",
    "1. Using the `DataFrame` `variants`, set its index to be the column `Variant ID`.\n",
    "2. Print the `AC` and `AN` columns.\n",
    "3. Print the second and third variants.\n",
    "4. Print the variant with ID `1-97544568-CTT-C`.\n",
    "5. Print the `AC` and `AN` columns of the first 2 variants.\n",
    "</div>"
   ]
  },
  {
   "cell_type": "code",
   "execution_count": null,
   "metadata": {},
   "outputs": [],
   "source": [
    "# DATAFRAME ACCESS"
   ]
  },
  {
   "cell_type": "markdown",
   "metadata": {},
   "source": [
    "### Adding Rows\n",
    "Similarly to `Series`, adding rows to `DataFrames` can be done but is not recommended, especially if we are adding them one by one. The reason for this is that every time we add a row, `pandas` has to copy the entire `DataFrame` (very slow if you repeat thousands of times). Nonetheless, it is possible to append a `DataFrame` to another one using the `.append` method.\n",
    "\n",
    "```python\n",
    "<new df> = <original df>.append(<df to append>)\n",
    "```\n",
    "\n",
    "Rather, if you need to add rows one at a time to a `DataFrame`, it is better to create a list of dictionaries, add the rows to the list as dictionaries one at a time and then convert the final list into a `DataFrame` (using `from_dict`)."
   ]
  },
  {
   "cell_type": "markdown",
   "metadata": {},
   "source": [
    "### Adding Columns\n",
    "Once again, there are multiple ways to add a new column to a `DataFrame`. The simplest consists of setting the new column to be equal to a list with the same number of entries as there are rows.\n",
    "```python\n",
    "<dataframe object>[\"<new column name>\"] = <list of values>\n",
    "```\n",
    "It is also possible to do so with a `Series`:\n",
    "```python\n",
    "<dataframe object>[\"<new column name>\"] = <series object>\n",
    "```\n",
    "Since `DataFrame` columns are just `Series`, we can set a new column to be equal to a function applied to another column of that `DataFrame`. For example, if we had the `Allelle Count` (number of times the variant was spotted) and the `Allele Total` (sample size), we could create a new column equal to the `Allele Frequency` as follows:\n",
    "\n",
    "```python\n",
    "df[\"Allele Frequency\"] = df[\"Allele Count\"]/df[\"Allele Total\"]\n",
    "print(df)\n",
    "```"
   ]
  },
  {
   "cell_type": "markdown",
   "metadata": {},
   "source": [
    "### Sorting Dataframe\n",
    "DataFrames can be sorted using the `.sort_values` method.\n",
    "\n",
    "```python\n",
    "<dataframe object>.sort_values(by = [\"<column name>\"], inplace = True)\n",
    "```\n",
    "\n",
    "We can specify a descending order for sorting by passing the argument `ascending = False`"
   ]
  },
  {
   "cell_type": "code",
   "execution_count": null,
   "metadata": {},
   "outputs": [],
   "source": [
    "df.sort_values(by = [\"Position\"], inplace = True, ascending = False)\n",
    "print(df)"
   ]
  },
  {
   "cell_type": "markdown",
   "metadata": {},
   "source": [
    "## Applying Functions\n",
    "One of the more versatile tools offered by `pandas` is the ability to apply a specific function to all rows of a column of a `DataFrame`. The function in question must be a function that takes in a value (in this case the value of the cell) and returns another value."
   ]
  },
  {
   "cell_type": "markdown",
   "metadata": {},
   "source": [
    "To apply to a single column, select the column and set it equal to the column to which the function has been applied:"
   ]
  },
  {
   "cell_type": "code",
   "execution_count": null,
   "metadata": {},
   "outputs": [],
   "source": [
    "# Function that replaces any input by 0\n",
    "def deleter(number):\n",
    "    return 0\n",
    "\n",
    "df[\"gene\"] = df[\"gene\"].apply(deleter)\n",
    "print(df)"
   ]
  },
  {
   "cell_type": "markdown",
   "metadata": {},
   "source": [
    "[For other ways the `.apply()` method can be used.](https://pandas.pydata.org/pandas-docs/stable/reference/api/pandas.DataFrame.apply.html)"
   ]
  },
  {
   "cell_type": "markdown",
   "metadata": {},
   "source": [
    "<div style=\"background-color:#e8f1ff; padding: 20px;box-shadow: 0 4px 8px 0 rgba(0,0,0,0.2);\n",
    "  transition: 0.3s;\"> \n",
    "<h2 style=\"margin:0; text-align: center\">DATAFRAME MODIFICATION</h2>\n",
    "\n",
    "In the code cell below:\n",
    "1. Add the column below to the `DataFrame` `variants`.\n",
    "2. Add a new column called `AF` to the dataframe whose value is equal to `AC` divided by `AN`.\n",
    "3. Change the `AF` column to amount per million (multiply by 1 million) using the `.apply()` method.\n",
    "4. Sort the `DataFrame` by `AF`.\n",
    "\n",
    "| CLIN SIG   |\n",
    "|------------|\n",
    "| None       |\n",
    "| None       |\n",
    "| Uncertain  |\n",
    "| None       |\n",
    "\n",
    "</div>"
   ]
  },
  {
   "cell_type": "code",
   "execution_count": null,
   "metadata": {},
   "outputs": [],
   "source": [
    "# DATAFRAME MODIFICATION"
   ]
  },
  {
   "cell_type": "markdown",
   "metadata": {},
   "source": [
    "# Pandas Functions\n",
    "With the basics out of the way, we can now focus on learning the various functions and methods that make `pandas` particularly enjoyable as a tool for data analysis"
   ]
  },
  {
   "cell_type": "markdown",
   "metadata": {},
   "source": [
    "## Pandas IO\n",
    "\n",
    "`pandas` also has very convenient methods for creating dataframes by reading data from a file, particularly `.csv` files.\n",
    "\n",
    "\n",
    "> ## Aside: `.csv`\n",
    "> CSVs (Comma Separated Values) are a file type for representing tabular data in a compact, unformatted way. We can think of them as Excel files without all the bells and whistles (different fonts, column widths, functions, etc.). In fact, a good way to visualize them is by opening a `.csv` file in Excel.\n",
    "### Reading from .csv\n",
    "To read from a `.csv` file, we use the `.read_csv()` method while providing the path to the file as an argument. The method returns a `DataFrame`.\n",
    "```python\n",
    "<dataframe variable name> = pd.read_csv(\"<path to file>\")\n",
    "```\n",
    "### Outputting to .csv\n",
    "Similarly, to output a `.csv` file from a `DataFrame` (that we can then open in Excel), we use the `.to_csv()` method while providing the path to the `.csv` we want to create (can be a file that doesn't already exist).\n",
    "\n",
    "```python\n",
    "<dataframe object>.to_csv(\"<path to file>\")\n",
    "```"
   ]
  },
  {
   "cell_type": "code",
   "execution_count": null,
   "metadata": {},
   "outputs": [],
   "source": [
    "# Read a csv file into a DataFrame\n",
    "csv_df = pd.read_csv(\"dpyd_variants.csv\")"
   ]
  },
  {
   "cell_type": "markdown",
   "metadata": {},
   "source": [
    ">## Dataset Background\n",
    "Fluorouracil  (5FU) is a commonly used cancer treatment that is mainly metabolized by DPD, encoded in the DPYD gene. Certain variants that lead to loss of function of this gene cause severe toxicity for treated patients.\n",
    ">\n",
    ">INESSS (Institut national d'excellence en santé et services sociaux) has recommended testing for four variants before proceeding with Fluorouracil treatment.\n",
    "However, there are other DPYD variants for which loss of function is likely. \n",
    ">\n",
    ">The prevalence of these variants varies between ethnic groups, as demonstrated by the gnomAD database (database with data from 140 000 + exomes/genomes). \n",
    ">\n",
    ">The variants.csv file contains a list of variants as well as their associated:\n",
    ">-\t**VAR_ID**: Variant ID consisting of `<chromosome>-<position>-<reference>-<alternative>`\n",
    ">-\t**AC**: Allele count (in how many genomes was the variant observed).\n",
    ">-\t**AN**: Allele number (how many genomes were sequenced at that location).\n",
    ">-\t**LOF**: Loss-of-function (HC for high confidence, LC for low confidence).\n",
    ">-\t**CLIN_SIG**: Clinical signature.\n",
    ">-\t**INESSS**: Whether it’s a variant recommended by INESSS.\n",
    ">-\t**AC_<population>**: Allele count for that population.\n",
    ">-\t**AN_<population>**: Allele number for that population.\n",
    ">\n",
    ">Our goal is to use Python to examine whether the variants chosen by INESSS provide adequate coverage across all populations or if they are biased towards certain groups.\n"
   ]
  },
  {
   "cell_type": "markdown",
   "metadata": {},
   "source": [
    "Once we've loaded the dataset, we often want to get a better idea of what it contains, how it's structured, etc.\n",
    "\n",
    "With big datasets, straight up printing the DataFrame is messy. A better way to apprehend the dataset is to take advantage of some of `pandas`' built-in functions.\n",
    "\n",
    "A good first step is using `.head()` or `.tail()` to get the first or last 5 lines of the dataframe. Combining them with `print()` gives us a good example of a typical row. We can also use `.shape` to see how many rows/columns there are. The first entry is the number of rows and the second the number of columns."
   ]
  },
  {
   "cell_type": "code",
   "execution_count": null,
   "metadata": {},
   "outputs": [],
   "source": [
    "print(csv_df.head())\n",
    "print()\n",
    "print(csv_df.shape)"
   ]
  },
  {
   "cell_type": "markdown",
   "metadata": {},
   "source": [
    "Seeing that there a lot of columns in this dataset, printing the head of the `DataFrame` doesn't display all of them. Instead, we can use the `.columns.values` field to access the columns and then transform then into a list using `list()`:"
   ]
  },
  {
   "cell_type": "code",
   "execution_count": null,
   "metadata": {},
   "outputs": [],
   "source": [
    "column_values = list(csv_df.columns.values)\n",
    "\n",
    "# Slightly cleaner way of printing\n",
    "for value in column_values:\n",
    "    print(value)"
   ]
  },
  {
   "cell_type": "markdown",
   "metadata": {},
   "source": [
    "For specific columns, we might want to know the different values that are taken on by the rows of the `DataFrame`. For example, we might want to know the possible clinical signatures found in the column `CLIN_SIG`. To get a list of all unique values for a column, we can use the `.unique()` method."
   ]
  },
  {
   "cell_type": "code",
   "execution_count": null,
   "metadata": {},
   "outputs": [],
   "source": [
    "signatures = csv_df[\"CLIN_SIG\"].unique()\n",
    "\n",
    "for value in signatures:\n",
    "    print(value)"
   ]
  },
  {
   "cell_type": "markdown",
   "metadata": {},
   "source": [
    "Finally, the `.describe()` can be used to quickly get summary statistics (mean, median, std, min, max, etc.) of all numerical columns in a dataframe."
   ]
  },
  {
   "cell_type": "code",
   "execution_count": null,
   "metadata": {},
   "outputs": [],
   "source": [
    "csv_df.describe()"
   ]
  },
  {
   "cell_type": "markdown",
   "metadata": {},
   "source": [
    "<div style=\"background-color:#e8f1ff; padding: 20px;box-shadow: 0 4px 8px 0 rgba(0,0,0,0.2);\n",
    "  transition: 0.3s;\"> \n",
    "<h2 style=\"margin:0; text-align: center\">UNDERSTANDING A DATASET</h2>\n",
    "\n",
    "Use the code cell below to:\n",
    "1. Find the median allele count (AC) of variants in this dataset.\n",
    "2. Find the different possible values for `LOF`.\n",
    "3. Find the number of columns in the dataset.\n",
    "</div>"
   ]
  },
  {
   "cell_type": "code",
   "execution_count": null,
   "metadata": {},
   "outputs": [],
   "source": [
    "# UNDERSTANDING A DATASET"
   ]
  },
  {
   "cell_type": "markdown",
   "metadata": {},
   "source": [
    "## Pandas Filtering\n",
    "Once we've created and played with our `DataFrame`, it is often useful to filter it and only include rows with certain values. For example, in a `DataFrame` where each row is a variant, we might only want to look at those of a certaing gene."
   ]
  },
  {
   "cell_type": "markdown",
   "metadata": {},
   "source": [
    "### Boolean indexing\n",
    "For a pandas `DataFrame`, we can use **boolean indexing** to create a `Series` where each value is `True` or `False` depending on whether the associated row meets a certain condition.\n",
    "\n",
    "For example, we can check whether a variant has a certain clinical signature as follows:"
   ]
  },
  {
   "cell_type": "code",
   "execution_count": null,
   "metadata": {},
   "outputs": [],
   "source": [
    "print(csv_df[\"CLIN_SIG\"] == \"Pathogenic/Likely_pathogenic\")"
   ]
  },
  {
   "cell_type": "markdown",
   "metadata": {},
   "source": [
    "We can then use this boolean indexing to select only rows of the dataframe that meet the condition. To do so, we use:\n",
    "```python\n",
    "<dataframe object>[<boolean index series object>]\n",
    "```\n",
    "e.g."
   ]
  },
  {
   "cell_type": "code",
   "execution_count": null,
   "metadata": {},
   "outputs": [],
   "source": [
    "pathogenic = csv_df[csv_df[\"CLIN_SIG\"] == \"Pathogenic/Likely_pathogenic\"] # Select all rows that meet condition\n",
    "\n",
    "# Just printing the VAR_ID and CLIN_SIG columns\n",
    "print(pathogenic[[\"VAR_ID\", \"CLIN_SIG\"]])"
   ]
  },
  {
   "cell_type": "markdown",
   "metadata": {},
   "source": [
    "Pandas also allows the use of the `.isin()` method to create a boolean index. As the name implies, `.isin()` will give a `True` value to rows whose column value is in the provided list and `False` to the other rows."
   ]
  },
  {
   "cell_type": "code",
   "execution_count": null,
   "metadata": {},
   "outputs": [],
   "source": [
    "pathogenic_signatures = [\"pathogenic\", \"drug_response\", \"Likely_pathogenic\", \"Pathogenic/Likely_pathogenic\"]\n",
    "\n",
    "pathogenic_column = csv_df[\"CLIN_SIG\"].isin(pathogenic_signatures)\n",
    "print(pathogenic_column.head())"
   ]
  },
  {
   "cell_type": "markdown",
   "metadata": {},
   "source": [
    "Then, to get the corresponding rows:"
   ]
  },
  {
   "cell_type": "code",
   "execution_count": null,
   "metadata": {},
   "outputs": [],
   "source": [
    "pathogenic = csv_df[pathogenic_column]\n",
    "\n",
    "print(pathogenic[[\"VAR_ID\", \"CLIN_SIG\"]])"
   ]
  },
  {
   "cell_type": "markdown",
   "metadata": {},
   "source": [
    "Finally, similarly to boolean expressions, these conditions can be combined and negated using the `&`, `|` and `~` operators. When using these operators, each individual expression needs to be surrounded by `()`."
   ]
  },
  {
   "cell_type": "code",
   "execution_count": null,
   "metadata": {},
   "outputs": [],
   "source": [
    "# Create list of boolean indices\n",
    "boolean_indices = [\n",
    "    # & is the and operator and works the same way as `and` for boolean expressions\n",
    "    (csv_df[\"CLIN_SIG\"] == \"Likely_pathogenic\") & (csv_df[\"AC\"] > 10),\n",
    "    \n",
    "    # | is the or operator and works the same as `or`\n",
    "    (csv_df[\"CLIN_SIG\"] == \"Likely_pathogenic\") | (csv_df[\"CLIN_SIG\"] == \"pathogenic\"),\n",
    "    \n",
    "    # ~ is the same as the not operator and works the same as not\n",
    "    ~(csv_df[\"FILTER\"] == \"None\")\n",
    "]\n",
    "\n",
    "# Loop over them, each time printing the corresponding filtered DataFrame\n",
    "for index in boolean_indices:\n",
    "    print(csv_df[index][[\"VAR_ID\", \"CLIN_SIG\", \"FILTER\"]])\n",
    "    print()"
   ]
  },
  {
   "cell_type": "markdown",
   "metadata": {},
   "source": [
    "<div style=\"background-color:#e8f1ff; padding: 20px;box-shadow: 0 4px 8px 0 rgba(0,0,0,0.2);\n",
    "  transition: 0.3s;\"> \n",
    "<h2 style=\"margin:0; text-align: center\">DATAFRAME FILTERING</h2>\n",
    "\n",
    "In the code cell below:\n",
    "1. In the DataFrame `csv_df`, create a new column called `AF` corresponding to `AC`/`AN`.\n",
    "2. Create a boolean index called `common` that checks for rows with `AF` bigger than 0.1.\n",
    "3. Create a `DataFrame` called `common_df` corresponding to the rows that match that criteria.\n",
    "3. Create a boolean index called `problematic` that checks whether a row has as `FILTER` `None` and meets either of the following characteristics:\n",
    "    - Has a `CLIN_SIG` that belongs to `pathogenic_signatures`.\n",
    "    - Has a `LOF` of `HC`.\n",
    "    - Belongs to `INESSS`, (i.e. has a value of `True` in the `INESSS` column).\n",
    "4. Create a `DataFrame` called `problematic_df` corresponding to that index.\n",
    "</div>"
   ]
  },
  {
   "cell_type": "code",
   "execution_count": null,
   "metadata": {},
   "outputs": [],
   "source": [
    "# DATAFRAME FILTERING"
   ]
  },
  {
   "cell_type": "markdown",
   "metadata": {},
   "source": [
    "## Dataframe iteration\n",
    "\n",
    "Like dictionaries, dataframes are a bit harder to iterate over. Using the list iteration syntax\n",
    "\n",
    "```python\n",
    "for element in df:\n",
    "    print(element)\n",
    "```\n",
    "\n",
    "will only iterate over the column names of the dataframe. However, often we would rather iterate over the rows of the dataframe. To do so, we need to use the method `.iterrows()` as follows:"
   ]
  },
  {
   "cell_type": "code",
   "execution_count": null,
   "metadata": {},
   "outputs": [],
   "source": [
    "for index, row in csv_df.head().iterrows():\n",
    "    print(row)"
   ]
  },
  {
   "cell_type": "markdown",
   "metadata": {},
   "source": [
    "Here, each `row` is a pandas `Series` meaning we can access the column values specific to a row using `Series` syntax. As for `index`, it is the index of the row."
   ]
  },
  {
   "cell_type": "code",
   "execution_count": null,
   "metadata": {},
   "outputs": [],
   "source": [
    "for index, row in csv_df.head().iterrows():\n",
    "    print(row[\"VAR_ID\"])\n",
    "    print(row[\"LOF\"])"
   ]
  },
  {
   "cell_type": "markdown",
   "metadata": {},
   "source": [
    "<div style=\"background-color:#cbffbd; padding: 20px;box-shadow: 0 4px 8px 0 rgba(0,0,0,0.2);\n",
    "  transition: 0.3s;\"> \n",
    "<h2 style=\"margin:0; text-align: center\">FINAL EXERCISE</h2>\n",
    "\n",
    "In the code cell below:\n",
    "1. Read the file `dpyd_variants.csv` into a `DataFrame` called `variants`.\n",
    "2. Filter out variants that don't have `None` as `FILTER`.\n",
    "3. Remove variants that lack evidence of pathogenicity, i.e. that:\n",
    "    - Don't have `True` in the `INESSS` column.\n",
    "    - Don't have `LC` or `HC` as `LOF.\n",
    "    - Don't have a `CLIN_SIG` which is either `pathogenic`, `drug_response`, `Likely_pathogenic` or `Pathogenic/Likely_pathogenic`.\n",
    "4. Add the `AF` column to the filtered dataframe (`AC`/`AN`).\n",
    "5. Using a for loop, for each population (`eas`, `afr`, `amr`, `asj`, `sas`, `nfe`, `fin`), compute the associated `AF` and store it in a column called `AF_<population>`.\n",
    "    - Hint: Create a list of populations, loop over it and use string concatenation to access the right column.\n",
    "6. Save the `DataFrame` to `filtered_variants.csv`.\n",
    "\n",
    "</div>"
   ]
  },
  {
   "cell_type": "code",
   "execution_count": null,
   "metadata": {},
   "outputs": [],
   "source": [
    "# FINAL EXERCISE"
   ]
  },
  {
   "cell_type": "markdown",
   "metadata": {},
   "source": [
    "> ## Populations\n",
    ">- AFR: African/African American\n",
    ">- AMR: Admixed American\n",
    ">- ASJ: Ashkenazi Jewish\n",
    ">- EAS: East Asian\n",
    ">- FIN: Finnish\n",
    ">- NFE: Non-Finnish European\n",
    ">- SAS: South Asian\n"
   ]
  }
 ],
 "metadata": {
  "kernelspec": {
   "display_name": "Python 3",
   "language": "python",
   "name": "python3"
  },
  "language_info": {
   "codemirror_mode": {
    "name": "ipython",
    "version": 3
   },
   "file_extension": ".py",
   "mimetype": "text/x-python",
   "name": "python",
   "nbconvert_exporter": "python",
   "pygments_lexer": "ipython3",
   "version": "3.7.3"
  }
 },
 "nbformat": 4,
 "nbformat_minor": 2
}
