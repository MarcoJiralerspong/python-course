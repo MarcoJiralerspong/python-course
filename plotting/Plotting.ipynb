{
 "cells": [
  {
   "cell_type": "markdown",
   "metadata": {},
   "source": [
    "# **PYTHON FOR BIOLOGISTS 3: PLOTTING WITH MATPLOTLIB AND SEABORN**"
   ]
  },
  {
   "cell_type": "markdown",
   "metadata": {},
   "source": [
    "Once again, make sure to run the cell below to improve the formatting of the notebook."
   ]
  },
  {
   "cell_type": "code",
   "execution_count": 1,
   "metadata": {},
   "outputs": [
    {
     "data": {
      "text/html": [
       "\n",
       "<style>\n",
       "    div.cell h1,div.cell h2,div.cell h3,div.cell h4,div.cell h5,div.cell p,div.cell li{font-family: \"Times New Roman\", sans-serif; color: #444}\n",
       "    .rendered_html code{font-size: 14px;}\n",
       "    div.cell p, div.cell li{line-height: 1.6; font-size: 18px; color: #444}\n",
       "    div.code_cell{padding: 24px 16px;}\n",
       "    div.prompt{display: none;}\n",
       "    div.cell{width: 65%; max-width: 720px; margin: auto}\n",
       "    .rendered_html h1{font-size: 32px;}\n",
       "    .rendered_html h2{font-size: 28px;}\n",
       "    .rendered_html h3{font-size: 24px;}\n",
       "</style>\n"
      ],
      "text/plain": [
       "<IPython.core.display.HTML object>"
      ]
     },
     "metadata": {},
     "output_type": "display_data"
    }
   ],
   "source": [
    "from IPython.display import display, HTML\n",
    "\n",
    "display(HTML(data=\"\"\"\n",
    "<style>\n",
    "    div.cell h1,div.cell h2,div.cell h3,div.cell h4,div.cell h5,div.cell p,div.cell li{font-family: \"Times New Roman\", sans-serif; color: #444}\n",
    "    .rendered_html code{font-size: 14px;}\n",
    "    div.cell p, div.cell li{line-height: 1.6; font-size: 18px; color: #444}\n",
    "    div.code_cell{padding: 24px 16px;}\n",
    "    div.prompt{display: none;}\n",
    "    div.cell{width: 65%; max-width: 720px; margin: auto}\n",
    "    .rendered_html h1{font-size: 32px;}\n",
    "    .rendered_html h2{font-size: 28px;}\n",
    "    .rendered_html h3{font-size: 24px;}\n",
    "</style>\n",
    "\"\"\"))"
   ]
  },
  {
   "cell_type": "markdown",
   "metadata": {},
   "source": [
    "# MATPLOTLIB"
   ]
  },
  {
   "cell_type": "markdown",
   "metadata": {},
   "source": [
    "## Introduction\n",
    "`matplotlib` is Python's most used library for plotting data. It is both easy to use and very versatile, offering options for graphs going from scatter plots to pie charts. It is imported as follows:"
   ]
  },
  {
   "cell_type": "code",
   "execution_count": null,
   "metadata": {},
   "outputs": [],
   "source": [
    "import matplotlib.pyplot as plt"
   ]
  },
  {
   "cell_type": "markdown",
   "metadata": {},
   "source": [
    "The simplest thing to plot is just a list of numbers:"
   ]
  },
  {
   "cell_type": "code",
   "execution_count": null,
   "metadata": {},
   "outputs": [],
   "source": [
    "plt.plot([1, 1, 2, 3, 5, 8, 13, 21, 34, 55])\n",
    "plt.show()"
   ]
  },
  {
   "cell_type": "markdown",
   "metadata": {},
   "source": [
    "Here, the `.plot()` method assumes that the given list corresponds to **y values** and that the index of the elements are **x values**. For this discrete set of coordinates, it draws lines between points. Then, the `.show()` method displays the created plot.\n",
    "\n",
    "Roughly, the general process of plotting with `matplotlib` is done in 3 steps.\n",
    "- Plot the data.\n",
    "- Customize the appearance of the plot.\n",
    "- Show/save the plot.\n",
    "\n",
    "For each of these steps, we use different `plt` methods that we call on the `plt` object. When doing so, we modify the current figure, which is shown and then reset whenever we call `.show()`."
   ]
  },
  {
   "cell_type": "markdown",
   "metadata": {},
   "source": [
    "<div style=\"background-color:#e8f1ff; padding: 20px;box-shadow: 0 4px 8px 0 rgba(0,0,0,0.2);\n",
    "  transition: 0.3s;\"> \n",
    "<h2 style=\"margin:0; text-align: center\">EXERCISE: BASIC PLOT</h2>\n",
    "\n",
    "In the code cell below:\n",
    "1. Plot the first 15 powers of 2 (2, 4, 8...). Generate the list of powers of 2 programmatically using a list comprehension (see below).\n",
    "</div>"
   ]
  },
  {
   "cell_type": "markdown",
   "metadata": {},
   "source": [
    "> ### ASIDE: List Comprehensions\n",
    "> List comprehensions are a Python technique for quickly generating a lists based on other collections. The general syntax for them is:\n",
    ">```python\n",
    "> [<function to apply to element> for <element variable name> in <collection object>]\n",
    ">```\n",
    "> For example, if we wanted to create a list of the squares of 0 through 10:"
   ]
  },
  {
   "cell_type": "code",
   "execution_count": null,
   "metadata": {},
   "outputs": [],
   "source": [
    "# number * number is the function we want to apply\n",
    "# number is the variable name given to an element\n",
    "# range(10) is the collection\n",
    "\n",
    "squares = [number * number for number in range(10)]\n",
    "print(squares)"
   ]
  },
  {
   "cell_type": "code",
   "execution_count": null,
   "metadata": {},
   "outputs": [],
   "source": [
    "# EXERCISE: BASIC PLOT"
   ]
  },
  {
   "cell_type": "markdown",
   "metadata": {},
   "source": [
    "## Basics"
   ]
  },
  {
   "cell_type": "markdown",
   "metadata": {},
   "source": [
    "### Titles and Annotations\n",
    "\n",
    "- The `.set_title(<title>)` method can be used to give the plot a title.\n",
    "- The `.xlabel(<x axis name>)` method can be used to label the x-axis.\n",
    "- The `.ylabel(<y axis name>)` method can be used to label the y-axis.\n",
    "\n"
   ]
  },
  {
   "cell_type": "code",
   "execution_count": null,
   "metadata": {},
   "outputs": [],
   "source": [
    "plt.plot([1, 1, 2, 3, 5, 8, 13, 21, 34, 55])\n",
    "plt.title(\"Fibonacci Numbers\")\n",
    "plt.xlabel(\"X\")\n",
    "plt.ylabel(\"Y\")\n",
    "plt.show()"
   ]
  },
  {
   "cell_type": "markdown",
   "metadata": {},
   "source": [
    "### Text\n",
    "Text can be added to any plot using the `.text()` method. The `.text()` method takes as arguments the `x`, `y` position where the text should be displayed as well as a string representing the text. We can also specify the fontsize and the color using the `fontsize` and `color` arguments respectively."
   ]
  },
  {
   "cell_type": "code",
   "execution_count": null,
   "metadata": {},
   "outputs": [],
   "source": [
    "plt.plot(range(10))\n",
    "plt.text(0, 8, \"Wow, this line is very straight!\", fontsize = 14, color = \"navy\")\n",
    "plt.show()"
   ]
  },
  {
   "cell_type": "markdown",
   "metadata": {},
   "source": [
    "### Axis and Figure Size\n",
    "We can modify the limits of both axes using the `.xlim(<start>, <end>)` and `.ylim(<start>, <end>)` methods.\n",
    "\n",
    "The overall figure size can be modified with `.figure(figsize = (<width>, <height>))`. The method must be used **before we plot the data**."
   ]
  },
  {
   "cell_type": "code",
   "execution_count": null,
   "metadata": {},
   "outputs": [],
   "source": [
    "plt.figure(figsize = (15,15))\n",
    "plt.plot(range(10))\n",
    "plt.xlim(0, 5)\n",
    "plt.ylim(0, 4)\n",
    "plt.show()"
   ]
  },
  {
   "cell_type": "markdown",
   "metadata": {},
   "source": [
    "### Superimposition\n",
    "\n",
    "Multiple sets of data can be superimposed on the same plot, simply by calling `.plot()` multiple times, once for each set. For example, we could graph the fibonacci numbers and powers of 2 on the same graph."
   ]
  },
  {
   "cell_type": "code",
   "execution_count": null,
   "metadata": {},
   "outputs": [],
   "source": [
    "fibonacci = [1, 1]\n",
    "twos = []\n",
    "\n",
    "# Populate lists of values\n",
    "for i in range(15):\n",
    "    fibonacci.append(fibonacci[i] + fibonacci[i+1])\n",
    "    twos.append(2 ** i)\n",
    "\n",
    "plt.plot(fibonacci)\n",
    "plt.plot(twos)\n",
    "plt.show()"
   ]
  },
  {
   "cell_type": "markdown",
   "metadata": {},
   "source": [
    "To facilitate understanding which line is which, we can add a **legend** to our plot."
   ]
  },
  {
   "cell_type": "markdown",
   "metadata": {},
   "source": [
    "### Legend\n",
    "To do so we use the `label` argument when plotting data (for example, when calling `.plot()` on the fibonacci sequence, we would specify `label=\"Fibonacci\"`. \n",
    "\n",
    "To display the legend, we use the `.legend()` method, adding the `loc` argument if we want to specify the location of the legend on the plot.\n",
    "\n",
    "`loc` can take on 9 different values (think of a 3x3 grid). For example, to put the legend in the top right, use `loc=\"upper right\"`. The other locations are given by the table below:\n",
    "\n",
    "<table>\n",
    "    <tr>\n",
    "        <td>upper left</td>\n",
    "        <td>upper center</td>\n",
    "        <td>upper right</td>\n",
    "    </tr>\n",
    "    <tr>\n",
    "        <td>left</td>\n",
    "        <td>center</td>\n",
    "        <td>right</td>\n",
    "    </tr>\n",
    "    <tr>\n",
    "        <td>lower left</td>\n",
    "        <td>lower center</td>\n",
    "        <td>lower right</td>\n",
    "    </tr>\n",
    "</table>"
   ]
  },
  {
   "cell_type": "code",
   "execution_count": null,
   "metadata": {},
   "outputs": [],
   "source": [
    "plt.plot(fibonacci, label = \"Fibonacci\")\n",
    "plt.plot(twos, label = \"Powers of 2\")\n",
    "plt.legend(loc = \"upper left\")\n",
    "plt.show()"
   ]
  },
  {
   "cell_type": "markdown",
   "metadata": {},
   "source": [
    "### Log Axis\n",
    "We can change the scale of the x or y axis using the `.xscale()` and `.yscale()` methods. `matplotlib` defaults to using `linear` for both but we can also use `log` for a logarithmic scale."
   ]
  },
  {
   "cell_type": "code",
   "execution_count": null,
   "metadata": {},
   "outputs": [],
   "source": [
    "plt.plot(twos)\n",
    "plt.yscale('log')\n",
    "\n",
    "plt.show()"
   ]
  },
  {
   "cell_type": "markdown",
   "metadata": {},
   "source": [
    "<div style=\"background-color:#e8f1ff; padding: 20px;box-shadow: 0 4px 8px 0 rgba(0,0,0,0.2);\n",
    "  transition: 0.3s;\"> \n",
    "<h2 style=\"margin:0; text-align: center\">EXERCISE: BASICS</h2>\n",
    "\n",
    "In the code cell below, create a plot that:\n",
    "1. Is of size 7x7.\n",
    "2. Has as axis labels `x values` and `y values`.\n",
    "3. Has axes that start at 0 and end at 100.\n",
    "4. Plots 3 different, labelled mathematical functions of your choice (quadratic, linear, etc.). Just include the first 15 values (i.e. when x=1, x=2, ...).\n",
    "5. Has a legend in the upper right.\n",
    "6. Has a title.\n",
    "</div>"
   ]
  },
  {
   "cell_type": "code",
   "execution_count": null,
   "metadata": {},
   "outputs": [],
   "source": [
    "# EXERCISE: BASICS"
   ]
  },
  {
   "cell_type": "markdown",
   "metadata": {},
   "source": [
    "## Plot Types"
   ]
  },
  {
   "cell_type": "markdown",
   "metadata": {},
   "source": [
    "With the basics out of the way, we can now test out the different plot options that `matplotlib` provides. We'll go over the most popular/useful types but others can be found by looking at [matplotlib's documentation](https://matplotlib.org/gallery.html).\n",
    "\n",
    "To start, we'll need to import some data that we can then plot. We'll be using a dataset that's similar to the one we used in the `pandas` course."
   ]
  },
  {
   "cell_type": "code",
   "execution_count": null,
   "metadata": {},
   "outputs": [],
   "source": [
    "import pandas as pd\n",
    "\n",
    "variants = pd.read_csv(\"plotting.csv\")\n",
    "\n",
    "# Preliminary look at dataset\n",
    "print(variants.head())\n",
    "print(variants.shape)\n",
    "\n",
    "# Create list of populations list that will be useful later on\n",
    "populations = [\"eas\", \"sas\", \"nfe\", \"asj\", \"amr\", \"fin\", \"afr\"]"
   ]
  },
  {
   "cell_type": "markdown",
   "metadata": {},
   "source": [
    "We can then use the different plots provided by `matplotlib` to illustrate different characteristics of the dataset and ultimately show interesting patterns."
   ]
  },
  {
   "cell_type": "markdown",
   "metadata": {},
   "source": [
    "### Bar\n",
    "Bar charts are good when you have multiple categories and corresponding numerical values. For example, we can visualize the allele frequency of various variants using a bar graph."
   ]
  },
  {
   "cell_type": "code",
   "execution_count": null,
   "metadata": {},
   "outputs": [],
   "source": [
    "# Sort by AF\n",
    "variants.sort_values(by = [\"AF\"], inplace = True, ascending = False)\n",
    "\n",
    "# Since there are over 90 variants, we'll just plot the 5 most frequent\n",
    "plot_data = variants.head()"
   ]
  },
  {
   "cell_type": "markdown",
   "metadata": {},
   "source": [
    "With the data imported and sorted, we now need to pass the data to `matplotlib` to create the graph. For a bar graph, we need to pass 2 lists to the `bar()` method: the list of categories (the variant IDs) and the list of associated numerical values (allele frequencies). For example:"
   ]
  },
  {
   "cell_type": "code",
   "execution_count": null,
   "metadata": {},
   "outputs": [],
   "source": [
    "heights = [150, 160, 170, 180]\n",
    "names = [\"John\", \"Bob\", \"Ron\", \"Lee\"]\n",
    "\n",
    "# The first argument is the categories and the second the associated numerical values\n",
    "plt.bar(names, heights)\n",
    "plt.show()"
   ]
  },
  {
   "cell_type": "markdown",
   "metadata": {},
   "source": [
    "However, our data is in a `DataFrame` right now. While we could convert the associated columns to lists, `matplotlib` offers the `data` argument which allows us to pass labeled data and then just use the labels as arguments for the list of categories/numerical values. For example, in our case, we can set `data=plot_data` and then pass `\"VAR_ID\"` and `\"AF\"` as the data labels. "
   ]
  },
  {
   "cell_type": "code",
   "execution_count": null,
   "metadata": {},
   "outputs": [],
   "source": [
    "# Pass the label of the categories first, then the label of the numerical values\n",
    "plt.bar(\"VAR_ID\", \"AF\", data = plot_data)\n",
    "\n",
    "plt.show()"
   ]
  },
  {
   "cell_type": "markdown",
   "metadata": {},
   "source": [
    "While it's working, there's some bothersome overlap between the labels on the x-axis. To remedy this, we can rotate the labels on the x-axis using the `.xticks()` method and the `rotation` argument (passing an integer corresponding to the angle of rotation)."
   ]
  },
  {
   "cell_type": "code",
   "execution_count": null,
   "metadata": {},
   "outputs": [],
   "source": [
    "plt.bar(\"VAR_ID\", \"AF\", data = plot_data)\n",
    "plt.xticks(rotation = 90)\n",
    "plt.show()"
   ]
  },
  {
   "cell_type": "markdown",
   "metadata": {},
   "source": [
    "It is also possible to include superimposed bars for each category. To do so, we simply call the `.bar()` method multiple times with different datasets."
   ]
  },
  {
   "cell_type": "markdown",
   "metadata": {},
   "source": [
    "<div style=\"background-color:#e8f1ff; padding: 20px;box-shadow: 0 4px 8px 0 rgba(0,0,0,0.2);\n",
    "  transition: 0.3s;\"> \n",
    "<h2 style=\"margin:0; text-align: center\">EXERCISE: BAR PLOT</h2>\n",
    "\n",
    "In the code cell below, create a bar plot where each bar is a different population and the height corresponds to the allele frequency of the first variant of `plot_data`. To do so:\n",
    "1. Start by accessing the first variant (remember `.iloc()`).\n",
    "2. Create a list called `frequencies`.\n",
    "3. Loop over the `populations` list and for each element add the corresponding allele frequency of that variant to the list.\n",
    "4. Call `.bar()` using `populations` as the `x` argument and `frequencies` as the `y` argument.\n",
    "\n",
    "</div>"
   ]
  },
  {
   "cell_type": "code",
   "execution_count": null,
   "metadata": {},
   "outputs": [],
   "source": [
    "# EXERCISE: BAR PLOT"
   ]
  },
  {
   "cell_type": "markdown",
   "metadata": {},
   "source": [
    "### Histogram"
   ]
  },
  {
   "cell_type": "markdown",
   "metadata": {},
   "source": [
    "Histograms require a set of bins (i.e. intervals). It then plots how many instances fall in each bin. Bins can be passed to the `.hist()` method either as a `list` or as a `range`. For example, if we want our bins to start at 1 and have a width of 1:"
   ]
  },
  {
   "cell_type": "code",
   "execution_count": null,
   "metadata": {},
   "outputs": [],
   "source": [
    "plt.hist(\"AC\", range(1,100) , data = variants)\n",
    "plt.show()"
   ]
  },
  {
   "cell_type": "markdown",
   "metadata": {},
   "source": [
    "We could also specify a width of 5 (the third argument of `range()` specifies the step width):"
   ]
  },
  {
   "cell_type": "code",
   "execution_count": null,
   "metadata": {},
   "outputs": [],
   "source": [
    "plt.hist(\"AC\", range(1, 100, 5) , data = variants)\n",
    "plt.show()"
   ]
  },
  {
   "cell_type": "markdown",
   "metadata": {},
   "source": [
    "However, the bars of these plots lack borders which makes it hard to differentiate between bars. This issue can be fixed by specifying the `edgecolor=\"black`.\n",
    "\n",
    "Also, the x-axis starts at 0 even though it would make more sense for it to start 1 (if we detect a variant, then the allele count must be at least 1). "
   ]
  },
  {
   "cell_type": "code",
   "execution_count": null,
   "metadata": {},
   "outputs": [],
   "source": [
    "plt.hist(\"AC\", range(1, 50) , data = variants, edgecolor = \"black\")\n",
    "plt.xlim(1, 50)\n",
    "plt.show()"
   ]
  },
  {
   "cell_type": "markdown",
   "metadata": {},
   "source": [
    "As the histogram demonstrates, the vast majority of variants are very rare, showing up in only a couple of genomes. However, the histogram misses the few variants that are much more frequent. In fact, if we check the 10 variants with the highest allele counts we get:"
   ]
  },
  {
   "cell_type": "code",
   "execution_count": null,
   "metadata": {},
   "outputs": [],
   "source": [
    "highest_ac = variants.sort_values(by = [\"AC\"], ascending = False)\n",
    "print(highest_ac.head(25)[\"AC\"])"
   ]
  },
  {
   "cell_type": "markdown",
   "metadata": {},
   "source": [
    "Which clearly shows the presence of a few outliers which aren't included in the domain of the histogram (something to be aware of)."
   ]
  },
  {
   "cell_type": "markdown",
   "metadata": {},
   "source": [
    "<div style=\"background-color:#e8f1ff; padding: 20px;box-shadow: 0 4px 8px 0 rgba(0,0,0,0.2);\n",
    "  transition: 0.3s;\"> \n",
    "<h2 style=\"margin:0; text-align: center\">EXERCISE: HISTOGRAM</h2>\n",
    "\n",
    "In the code cell below:\n",
    "1. Create a similar histogram using the allele count of the `nfe` population.\n",
    "2. Label the axes and add a title.\n",
    "\n",
    "</div>"
   ]
  },
  {
   "cell_type": "code",
   "execution_count": null,
   "metadata": {},
   "outputs": [],
   "source": [
    "# EXERCISE HISTOGRAM"
   ]
  },
  {
   "cell_type": "markdown",
   "metadata": {},
   "source": [
    "### Pie\n",
    "Pie charts are useful for showing proportions, e.g. what proportion of people with some variant are `nfe`, `eas`, etc. To do so, we use the `.pie()` method, passing it the sizes of the wedges and `populations` as `labels`.\n",
    "\n",
    "We'll create a pie chart for the variant with the highest allele frequency. Since our data is in a `DataFrame`, we'll need to create a list of allele counts for the different populations by iterating over the columns."
   ]
  },
  {
   "cell_type": "code",
   "execution_count": null,
   "metadata": {},
   "outputs": [],
   "source": [
    "# Get top variant\n",
    "top_variant = plot_data.iloc[0]\n",
    "\n",
    "wedges = []\n",
    "for population in populations:\n",
    "    wedges.append(top_variant[\"AC_\" + population]) # Gets AC_nfe, then AC_fin ...\n",
    "\n",
    "plt.pie(wedges, labels = populations)\n",
    "plt.show()"
   ]
  },
  {
   "cell_type": "markdown",
   "metadata": {},
   "source": [
    "We can also add the percentage occupied by each slice with the `autopct` argument as well as change the size of the pie chart with the `radius` argument."
   ]
  },
  {
   "cell_type": "code",
   "execution_count": null,
   "metadata": {},
   "outputs": [],
   "source": [
    "# '%1.1f%%' specifies the format of the percentage\n",
    "plt.pie(wedges, labels = populations, autopct = '%1.1f%%', radius = 2) \n",
    "plt.show()"
   ]
  },
  {
   "cell_type": "markdown",
   "metadata": {},
   "source": [
    "<div style=\"background-color:#e8f1ff; padding: 20px;box-shadow: 0 4px 8px 0 rgba(0,0,0,0.2);\n",
    "  transition: 0.3s;\"> \n",
    "<h2 style=\"margin:0; text-align: center\">EXERCISE: PIE CHART</h2>\n",
    "\n",
    "In the code cell below, create a pie chart similar to the one above but that includes all variants (i.e. that uses the sum of the allele counts as wedge sizes):\n",
    "1. Create a `wedges` list. \n",
    "2. Loop over the populations, for each adding the sum of the corresponding `AC` column as a wedge size (use `<dataframe variable>[\"<column name>\"].sum()` to get the sum of all the values in that column).\n",
    "3. Use the `wedges` list and the `populations` list to create the pie chart.\n",
    "\n",
    "</div>"
   ]
  },
  {
   "cell_type": "code",
   "execution_count": null,
   "metadata": {},
   "outputs": [],
   "source": [
    "# EXERCISE: PIE CHART"
   ]
  },
  {
   "cell_type": "markdown",
   "metadata": {},
   "source": [
    "### Scatter\n",
    "Scatter plots are good if we have a set of datapoints with information on 2 numerical variables. We can plot them in 2D space and even draw a regression line to see how correlated they are. Let's examine how related allele frequency is between 2 populations with the `.scatter()` method."
   ]
  },
  {
   "cell_type": "code",
   "execution_count": null,
   "metadata": {},
   "outputs": [],
   "source": [
    "plt.scatter(\"AF_nfe\", \"AF_fin\", data = variants)\n",
    "plt.show()"
   ]
  },
  {
   "cell_type": "markdown",
   "metadata": {},
   "source": [
    "The size of the points can be modified using the `s=<size>` where size is an integer"
   ]
  },
  {
   "cell_type": "code",
   "execution_count": null,
   "metadata": {},
   "outputs": [],
   "source": [
    "plt.scatter(\"AF_nfe\", \"AF_sas\", data = variants, s = 10)\n",
    "plt.xlim(0, 0.023)\n",
    "plt.ylim(0, 0.02)\n",
    "plt.show()"
   ]
  },
  {
   "cell_type": "markdown",
   "metadata": {},
   "source": [
    "Adding a line representing the result of a linear regression is more complicated. Here, we'll make use of `sklearn` a Python library for machine learning since it has easy to use functions for running linear regressions."
   ]
  },
  {
   "cell_type": "code",
   "execution_count": null,
   "metadata": {},
   "outputs": [],
   "source": [
    "from sklearn.linear_model import LinearRegression"
   ]
  },
  {
   "cell_type": "markdown",
   "metadata": {},
   "source": [
    "We need to create an instance of\n",
    "`LinearRegression` and take advantage of the `.fit()` method to get the intercept/slope and the `.predict()` to calculate the values the line would take on the domain."
   ]
  },
  {
   "cell_type": "code",
   "execution_count": null,
   "metadata": {},
   "outputs": [],
   "source": [
    "linear_model = LinearRegression() # Create instance\n",
    "\n",
    "X = variants[\"AF_nfe\"].values.reshape(-1, 1) # sklearn requires a 2D array\n",
    "Y = variants[\"AF_fin\"].values.reshape(-1, 1)\n",
    "\n",
    "# Perform linear regression using nfe as X values and fin as Y values\n",
    "linear_model.fit(X, Y) \n",
    "\n",
    "# Get values of line based on slope/intercept calculated by .fit()\n",
    "y_values = linear_model.predict(X)"
   ]
  },
  {
   "cell_type": "markdown",
   "metadata": {},
   "source": [
    "Now that we have the values of the line representing the linear regression, we just need to plot them with the scatter plot."
   ]
  },
  {
   "cell_type": "code",
   "execution_count": null,
   "metadata": {},
   "outputs": [],
   "source": [
    "plt.scatter(\"AF_nfe\", \"AF_sas\", data = variants, s=20) # Plots the points\n",
    "plt.plot(variants[\"AF_nfe\"], y_values, color = \"green\", linewidth = 0.5) # Plots the line\n",
    "plt.xlim(0, 0.023)\n",
    "plt.ylim(0, 0.02)\n",
    "\n",
    "plt.show()"
   ]
  },
  {
   "cell_type": "markdown",
   "metadata": {},
   "source": [
    "<div style=\"background-color:#e8f1ff; padding: 20px;box-shadow: 0 4px 8px 0 rgba(0,0,0,0.2);\n",
    "  transition: 0.3s;\"> \n",
    "<h2 style=\"margin:0; text-align: center\">EXERCISE: SCATTER PLOT</h2>\n",
    "\n",
    "In the code cell below:\n",
    "1. Create a similar scatter plot using the `nfe` and `amr` populations. \n",
    "2. Limit the x-axis and y-axis to only values above 0 and less than 0.03, then label the axes and add a title.\n",
    "3. Using `sklearn`, add a red regression line.\n",
    "\n",
    "</div>"
   ]
  },
  {
   "cell_type": "code",
   "execution_count": null,
   "metadata": {},
   "outputs": [],
   "source": [
    "# EXERCISE SCATTER PLOT"
   ]
  },
  {
   "cell_type": "markdown",
   "metadata": {},
   "source": [
    "We can get the slope and intercept of the line with the `.coef_` and `.intercept_` fields of the `LinearRegression` object."
   ]
  },
  {
   "cell_type": "code",
   "execution_count": null,
   "metadata": {},
   "outputs": [],
   "source": [
    "print(linear_model.coef_)\n",
    "print(linear_model.intercept_)"
   ]
  },
  {
   "cell_type": "markdown",
   "metadata": {},
   "source": [
    "We can also compute the Pearson correlation coefficient using `<df object>.corr()`."
   ]
  },
  {
   "cell_type": "code",
   "execution_count": null,
   "metadata": {},
   "outputs": [],
   "source": [
    "# Returns a dataframe of all correlations between all numerical values (i.e. tries all possible pairs)\n",
    "print(variants[[\"AF_nfe\", \"AF_fin\"]].corr())\n",
    "\n",
    "# Just gets the correlation between the two variables of interest\n",
    "variants[[\"AF_nfe\", \"AF_fin\"]].corr().iloc[0,1]"
   ]
  },
  {
   "cell_type": "markdown",
   "metadata": {},
   "source": [
    "## Subplots\n",
    "\n",
    "With `matplotlib`, it is possible to include multiple plots in the same figure, like the output of the following code block."
   ]
  },
  {
   "cell_type": "code",
   "execution_count": null,
   "metadata": {},
   "outputs": [],
   "source": [
    "x = range(10)\n",
    "y = range(10)\n",
    "\n",
    "fig, ax = plt.subplots(nrows=2, ncols=2)\n",
    "\n",
    "for row in ax:\n",
    "    for col in row:\n",
    "        col.plot(x, y)\n",
    "\n",
    "plt.show()"
   ]
  },
  {
   "cell_type": "markdown",
   "metadata": {},
   "source": [
    "To do so, we make use of the `.subplots()` method which creates multiple `Axes`, in an arrangement specified by the number of rows (`nrows`) and the number of columns (`ncols`).\n",
    "\n",
    "The method returns both a `Figure` object and a list of lists of `Axes` objects, which we store in the variables `fig` and `ax` respectively."
   ]
  },
  {
   "cell_type": "markdown",
   "metadata": {},
   "source": [
    "> ### ASIDE: Assigning values to multiple variables\n",
    "> The following syntax allows us to capture the output of a function that returns 2 objects in 2 separate variables:\n",
    "> ```python\n",
    "> <var name 1>, <var name 2> = <function that returns 2 objects>\n",
    "> ```"
   ]
  },
  {
   "cell_type": "markdown",
   "metadata": {},
   "source": [
    "A `Figure` object is essentially a collection of `Axes` while an `Axes` object is an individual plot (and not the axis of a plot). Essentially all the plotting methods we use on `plt` (`.plot()`, `.bar()`, `.histogram()`, etc.) can be used on an `Axes` object (however other methods change, for example `.title()` becomes `.set_title()`.\n",
    "\n",
    "For example, we could create a pie chart for multiple variants as follows."
   ]
  },
  {
   "cell_type": "code",
   "execution_count": null,
   "metadata": {},
   "outputs": [],
   "source": [
    "# Create the axes objects\n",
    "fig, ax = plt.subplots(nrows=3, ncols=3, figsize=(15,15))\n",
    "\n",
    "# Counter variable to keep track of which variant we're at\n",
    "i = 0\n",
    "\n",
    "# Iterate over the lists to access each one individually\n",
    "for row in ax:\n",
    "    for col in row:\n",
    "        \n",
    "        # Get wedges for that variant\n",
    "        top_variant = variants.sort_values(by=[\"AF\"], ascending=False).iloc[i]\n",
    "\n",
    "        wedges = []\n",
    "        for population in populations:\n",
    "            wedges.append(top_variant[\"AC_\" + population])\n",
    "        \n",
    "        # Plot\n",
    "        col.pie(wedges)\n",
    "        \n",
    "        # Use the variant ID as a plot title\n",
    "        col.set_title(top_variant[\"VAR_ID\"])\n",
    "        \n",
    "        # Add legend to upper right\n",
    "        col.legend(populations, loc=\"upper right\")\n",
    "        \n",
    "        # Increase the value of i so next iteration, we get the next variant.\n",
    "        i += 1\n",
    "\n",
    "plt.show()"
   ]
  },
  {
   "cell_type": "markdown",
   "metadata": {},
   "source": [
    "<div style=\"background-color:#e8f1ff; padding: 20px;box-shadow: 0 4px 8px 0 rgba(0,0,0,0.2);\n",
    "  transition: 0.3s;\"> \n",
    "<h2 style=\"margin:0; text-align: center\">EXERCISE: SUBPLOTS</h2>\n",
    "\n",
    "In the code cell below:\n",
    "1. Create a figure with 4 plots, each one a histogram of allele counts of a different population.\n",
    "\n",
    "</div>"
   ]
  },
  {
   "cell_type": "code",
   "execution_count": null,
   "metadata": {},
   "outputs": [],
   "source": [
    "# EXERCISE: SUBPLOTS"
   ]
  },
  {
   "cell_type": "markdown",
   "metadata": {},
   "source": [
    "# SEABORN\n",
    "\n",
    "`seaborn` is another popular Python plotting library that builds upon the functionality of `matplotlib` to allow the creation of more complex and aesthetic plots. `seaborn` works in tandem with `matplotlib` and, as we'll see, a lot of `matplotlib`'s methods are still used when working with `seaborn`."
   ]
  },
  {
   "cell_type": "markdown",
   "metadata": {},
   "source": [
    "## Basics"
   ]
  },
  {
   "cell_type": "markdown",
   "metadata": {},
   "source": [
    "As with all libraries, we first need to import `seaborn`."
   ]
  },
  {
   "cell_type": "code",
   "execution_count": null,
   "metadata": {},
   "outputs": [],
   "source": [
    "import seaborn as sns"
   ]
  },
  {
   "cell_type": "markdown",
   "metadata": {},
   "source": [
    "Then, to enable a `seaborn` style for our plots, we can use the `.set()` method."
   ]
  },
  {
   "cell_type": "code",
   "execution_count": null,
   "metadata": {},
   "outputs": [],
   "source": [
    "plt.plot([1, 1, 2, 3, 5, 8, 13, 21, 34, 55])\n",
    "plt.show()"
   ]
  },
  {
   "cell_type": "markdown",
   "metadata": {},
   "source": [
    "becomes:"
   ]
  },
  {
   "cell_type": "code",
   "execution_count": null,
   "metadata": {},
   "outputs": [],
   "source": [
    "sns.set()\n",
    "plt.plot([1, 1, 2, 3, 5, 8, 13, 21, 34, 55])\n",
    "plt.show()"
   ]
  },
  {
   "cell_type": "markdown",
   "metadata": {},
   "source": [
    "Seaborn has tons of customizations options, for example:"
   ]
  },
  {
   "cell_type": "markdown",
   "metadata": {},
   "source": [
    "Removing the grid:"
   ]
  },
  {
   "cell_type": "code",
   "execution_count": null,
   "metadata": {},
   "outputs": [],
   "source": [
    "sns.set_style('dark')\n",
    "plt.plot([1, 1, 2, 3, 5, 8, 13, 21, 34, 55])\n",
    "plt.show()"
   ]
  },
  {
   "cell_type": "markdown",
   "metadata": {},
   "source": [
    "Using a white grid:"
   ]
  },
  {
   "cell_type": "code",
   "execution_count": null,
   "metadata": {},
   "outputs": [],
   "source": [
    "sns.set_style('whitegrid')\n",
    "plt.plot([1, 1, 2, 3, 5, 8, 13, 21, 34, 55])\n",
    "plt.show()"
   ]
  },
  {
   "cell_type": "markdown",
   "metadata": {},
   "source": [
    "and much [more](https://seaborn.pydata.org/tutorial/aesthetics.html)."
   ]
  },
  {
   "cell_type": "markdown",
   "metadata": {},
   "source": [
    "## Colors\n",
    "\n",
    "`seaborn` allows the use of color palettes to ensure a more consistent and aesthetic theme throughout our plots. \n",
    "\n",
    "Even if we don't need plot types that are specific to `seaborn`, it's not a bad idea to use it just to improve the aesthetic of our plots (simply calling `sns.set()` will change the appearance of `matplotlib` plots as well). In fact, `seaborn`'s default color scheme is designed to be a more aesthetically pleasing version of `matplotlib`'s.\n",
    "\n",
    "The current color palette is given by `.color_palette()`. Seaborn also has the `.palplot()` method to display color palettes."
   ]
  },
  {
   "cell_type": "code",
   "execution_count": null,
   "metadata": {},
   "outputs": [],
   "source": [
    "# Display default seaborn color palette\n",
    "sns.palplot(sns.color_palette())"
   ]
  },
  {
   "cell_type": "markdown",
   "metadata": {},
   "source": [
    "The default color palette has a [few variations](https://seaborn.pydata.org/tutorial/color_palettes.html):"
   ]
  },
  {
   "cell_type": "code",
   "execution_count": null,
   "metadata": {},
   "outputs": [],
   "source": [
    "sns.palplot(sns.color_palette(\"pastel\"))\n",
    "sns.palplot(sns.color_palette(\"bright\"))\n",
    "sns.palplot(sns.color_palette(\"colorblind\"))\n",
    "sns.palplot(sns.color_palette(\"muted\"))"
   ]
  },
  {
   "cell_type": "markdown",
   "metadata": {},
   "source": [
    "`seaborn` also has sequential palettes that are good for displaying varying intensities and circular palettes that are good for displaying varying categories. "
   ]
  },
  {
   "cell_type": "code",
   "execution_count": null,
   "metadata": {},
   "outputs": [],
   "source": [
    "# Circular color palette (second argument specifies the number of colors to include)\n",
    "sns.palplot(sns.color_palette(\"hls\", 8))\n",
    "\n",
    "# Sequential color palette\n",
    "sns.palplot(sns.color_palette(\"Blues\", 8))"
   ]
  },
  {
   "cell_type": "markdown",
   "metadata": {},
   "source": [
    "Finally, we can add our own color palette by passing a list of hex color codes (in string format) to `.color_palette()`."
   ]
  },
  {
   "cell_type": "markdown",
   "metadata": {},
   "source": [
    "> ### ASIDE: Hex Color Codes\n",
    "> These color codes are hexadecimal strings preceded by a #. Each one represents a different color (for example a standard red is #FF000). \n",
    ">\n",
    "> To pick colors and find the corresponding color code, use [this tool](https://www.google.com/search?q=color+picker). "
   ]
  },
  {
   "cell_type": "code",
   "execution_count": null,
   "metadata": {},
   "outputs": [],
   "source": [
    "my_color_scheme = [\"#9b59b6\", \"#3498db\", \"#95a5a6\", \"#e74c3c\", \"#34495e\", \"#2ecc71\"]\n",
    "sns.palplot(sns.color_palette(my_color_scheme))"
   ]
  },
  {
   "cell_type": "markdown",
   "metadata": {},
   "source": [
    "To actually select a color palette, use the `.set_palette()` method, using whatever arguments, you would pass to `.color_palette()`. For example, to use the `pastel` color palette:"
   ]
  },
  {
   "cell_type": "code",
   "execution_count": null,
   "metadata": {},
   "outputs": [],
   "source": [
    "sns.set_palette(\"pastel\")"
   ]
  },
  {
   "cell_type": "markdown",
   "metadata": {},
   "source": [
    "<div style=\"background-color:#e8f1ff; padding: 20px;box-shadow: 0 4px 8px 0 rgba(0,0,0,0.2);\n",
    "  transition: 0.3s;\"> \n",
    "<h2 style=\"margin:0; text-align: center\">EXERCISE: COLORS</h2>\n",
    "\n",
    "In the code cell below:\n",
    "1. Create and set your own color palette to be used for the rest of the course.\n",
    "\n",
    "</div>"
   ]
  },
  {
   "cell_type": "code",
   "execution_count": null,
   "metadata": {},
   "outputs": [],
   "source": [
    "# EXERCISE: COLORS"
   ]
  },
  {
   "cell_type": "markdown",
   "metadata": {},
   "source": [
    "## Plot Types"
   ]
  },
  {
   "cell_type": "markdown",
   "metadata": {},
   "source": [
    "### Swarm Plot\n",
    "\n",
    "Swarm plots are specific to `seaborn`. They allow for the display of data points that have 2 categorical dimensions and one numerical dimension. They give a good impression of how the data is spread out and at which points it accumulates.\n",
    "\n",
    "From our dataset, an interesting swarm plot would be the allele frequency of different variants for different populations and LOF values. To do so, we use the `.swarmplot()` method similarly to the way we used plotting methods for `matplotlib`. \n",
    "\n",
    "We need to specify the following arguments:\n",
    "- `x`: Categorical variable column\n",
    "- `y`: Numerical variable column\n",
    "- `hue`: Second categorical variable column (optional)\n",
    "- `data`: Dataframe"
   ]
  },
  {
   "cell_type": "code",
   "execution_count": null,
   "metadata": {},
   "outputs": [],
   "source": [
    "sns.swarmplot(x = \"CLIN_SIG\", y = \"AF\", hue = \"LOF\", data = variants)\n",
    "\n",
    "# Rotate labels to avoid overlap\n",
    "plt.xticks(rotation = 90)\n",
    "\n",
    "# Ensure the y-axis starts at 0\n",
    "plt.ylim(0, 0.015)\n",
    "\n",
    "plt.show()"
   ]
  },
  {
   "cell_type": "markdown",
   "metadata": {},
   "source": [
    "<div style=\"background-color:#e8f1ff; padding: 20px;box-shadow: 0 4px 8px 0 rgba(0,0,0,0.2);\n",
    "  transition: 0.3s;\"> \n",
    "<h2 style=\"margin:0; text-align: center\">EXERCISE: SWARM PLOT</h2>\n",
    "\n",
    "In the code cell below:\n",
    "1. Create a swarm plot that shows the `AF_nfe` where the points are separated based on the `INESSS` column. Set the color to depend on the `LOF`.\n",
    "2. Give the plot a title.\n",
    "\n",
    "</div>"
   ]
  },
  {
   "cell_type": "code",
   "execution_count": null,
   "metadata": {},
   "outputs": [],
   "source": [
    "# EXERCISE: SWARM PLOT"
   ]
  },
  {
   "cell_type": "markdown",
   "metadata": {},
   "source": [
    "### Box Plot\n",
    "\n",
    "Box plots can be made for a single category (by only specifying an `x` argument) or multiple (by also specifying a `y` argument, in which case `x` corresponds to the categories and `y` to the numerical values)."
   ]
  },
  {
   "cell_type": "code",
   "execution_count": null,
   "metadata": {},
   "outputs": [],
   "source": [
    "# Just plotting a single category\n",
    "sns.boxplot(x=\"AF\", data=variants)\n",
    "\n",
    "plt.show()"
   ]
  },
  {
   "cell_type": "markdown",
   "metadata": {},
   "source": [
    "The boxplot above looks strange since, by default, `seaborn` will display outliers which have a much higher allele frequency than most variants. To remove them, we can use the `showfliers` argument and set it to `False`."
   ]
  },
  {
   "cell_type": "code",
   "execution_count": null,
   "metadata": {},
   "outputs": [],
   "source": [
    "sns.boxplot(x=\"AF\", data=variants, showfliers = False)\n",
    "plt.show()"
   ]
  },
  {
   "cell_type": "markdown",
   "metadata": {},
   "source": [
    "Using the `y` argument instead gives a vertical boxplot."
   ]
  },
  {
   "cell_type": "code",
   "execution_count": null,
   "metadata": {},
   "outputs": [],
   "source": [
    "sns.boxplot(y=\"AF\", data=variants, showfliers = False)\n",
    "plt.show()"
   ]
  },
  {
   "cell_type": "markdown",
   "metadata": {},
   "source": [
    "What if we wanted to display boxplots for each population, side-by-side? Unfortunately, our `variants` dataframe isn't equipped for the task. Instead, we need to create a `DataFrame` where each row has a `population` column and a `AF` column, essentially splitting the multiple columns of each row of `variants` into multiple rows."
   ]
  },
  {
   "cell_type": "code",
   "execution_count": null,
   "metadata": {},
   "outputs": [],
   "source": [
    "# We'll create our dataframe from a list of dictionaries\n",
    "dict_list = []\n",
    "\n",
    "# Iterate over rows of DataFrame\n",
    "for key, row in variants.iterrows():\n",
    "    \n",
    "    # For each population, add a dictionary to the list with a \"population\" and \"af\" entry\n",
    "    for population in populations:\n",
    "        dict_list.append({\n",
    "            \"Population\": population,\n",
    "            \"AF\": row[\"AF_\" + population]\n",
    "        })\n",
    "        \n",
    "# Create DataFrame from list of dictionaries\n",
    "box_df = pd.DataFrame(dict_list)\n",
    "\n",
    "sns.boxplot(x=\"Population\", y=\"AF\", data=box_df, showfliers=False)\n",
    "plt.show()"
   ]
  },
  {
   "cell_type": "markdown",
   "metadata": {},
   "source": [
    "### Violin\n",
    "\n",
    "A more complicated box plot that also contains information about the PDF (probability density function of the data). `seaborn` estimates the PDF using kernel density estimation. Other than that, creating a violin plot works similarly to creating a box plot."
   ]
  },
  {
   "cell_type": "code",
   "execution_count": null,
   "metadata": {},
   "outputs": [],
   "source": [
    "sns.violinplot(x=\"Population\", y=\"AF\", data=box_df)\n",
    "plt.show()"
   ]
  },
  {
   "cell_type": "markdown",
   "metadata": {},
   "source": [
    "<div style=\"background-color:#e8f1ff; padding: 20px;box-shadow: 0 4px 8px 0 rgba(0,0,0,0.2);\n",
    "  transition: 0.3s;\"> \n",
    "<h2 style=\"margin:0; text-align: center\">EXERCISE: BOX/VIOLIN PLOT</h2>\n",
    "\n",
    "In the code cell below:\n",
    "1. Create both a box plot and a violin plot that shows the distribution of `AF` for different `CLIN_SIG` values (no need to create a new `DataFrame` just use appropriate labels.\n",
    "\n",
    "</div>"
   ]
  },
  {
   "cell_type": "markdown",
   "metadata": {},
   "source": [
    "### Heatmap\n",
    "Heatmaps allow us to display intensity information for a 2D grid. To create one, we need to either pass a 2D numpy array or a `DataFrame` to the `.heatmap()` function.\n",
    "\n",
    "For example, we could create a heatmap of the correlations between allele frequencies of different populations. To do so, we need to create a `DataFrame` where the rows and columns are both population names and the value of a cell is the correlation between the row population and the column population.\n",
    "\n",
    "To create the `DataFrame`, we'll first create a dictionary of dictionaries with a nested for loop."
   ]
  },
  {
   "cell_type": "code",
   "execution_count": null,
   "metadata": {},
   "outputs": [],
   "source": [
    "correlations = {}\n",
    "\n",
    "# Create rows\n",
    "for row_population in populations:\n",
    "    row = {}\n",
    "    \n",
    "    # Populate columns of row\n",
    "    for column_population in populations:\n",
    "        row[column_population] = variants[[\"AF_\" + row_population, \"AF_\" + column_population]].corr().iloc[0,1]\n",
    "    \n",
    "    # Set entry in dictionary to be that row\n",
    "    correlations[row_population] = row\n",
    "\n",
    "# Transform to dataframe\n",
    "df = pd.DataFrame(correlations)\n",
    "\n",
    "# Ensure index order matches column order\n",
    "df = df.reindex(populations)\n",
    "\n",
    "print(df)\n",
    "sns.heatmap(df)\n",
    "plt.show()"
   ]
  },
  {
   "cell_type": "markdown",
   "metadata": {},
   "source": [
    "<div style=\"background-color:#e8f1ff; padding: 20px;box-shadow: 0 4px 8px 0 rgba(0,0,0,0.2);\n",
    "  transition: 0.3s;\"> \n",
    "<h2 style=\"margin:0; text-align: center\">EXERCISE: HEATMAP</h2>\n",
    "\n",
    "In the code cell below, create a heatmap of allele frequency for different populations for the first 5 variants of `variants`:\n",
    "1. Set the index of `variants` to be the `VAR_ID` column using the `.set_index()` method.\n",
    "2. Create a new dataframe that consists of only the first 5 variants (use `.head()`).\n",
    "3. Select only the columns with population frequency (e.g. `AF_nfe`, `AF_fin`, etc.) and pass the resulting dataframe as argument to `.heatmap()`.\n",
    "\n",
    "</div>"
   ]
  },
  {
   "cell_type": "markdown",
   "metadata": {},
   "source": [
    "<div style=\"background-color:#c4ffb3; padding: 20px;box-shadow: 0 4px 8px 0 rgba(0,0,0,0.2);\n",
    "  transition: 0.3s;\"> \n",
    "<h2 style=\"margin:0; text-align: center\">FINAL EXERCISE</h2>\n",
    "\n",
    "The goal of this final exercise is to plot the coverage of INESSS variants relative to all problematic variants for different populations. To do so, you'll create a bar plot with 2 superimposed bars, the first will represent the allele frequency of INESSS variants and the second the allele frequency for all variants for the given population.\n",
    "\n",
    "### Preparing Data\n",
    "\n",
    "1. Create a new dataframe called `inesss` that only includes variants with `True` in the `INESSS` column.\n",
    "2. Create a new list called `inesss_freq`. Then, looping over `populations`, get the sum of the corresponding allele frequency column of `inesss`.\n",
    "3. Repeat the process with a list called `non_iness_freq`, using the whole `variants` dataframe instead.\n",
    "\n",
    "### Customizing Plot\n",
    "1. Set `seaborn` styles with a `\"darkgrid\"` background.\n",
    "2. Give the plot a title and label the axes.\n",
    "\n",
    "### Plotting Data\n",
    "1. Plot the `non_inesss_freq` list as a bar graph using `populations` as categories, in blue. \n",
    "2. Plot the `inesss_freq` list as a bar graph using `populations` as categories, in pink.\n",
    "3. Include appropriate labels for both.\n",
    "4. Add a legend.\n",
    "\n",
    "### Adding Text\n",
    "1. Create a list called `proportions` where each entry is equal to the corresponding `inesss_freq` entry divided by the corresponding `non_inesss_freq` entry.\n",
    "2. Create a function called `to_percentage` that takes a number and:\n",
    "    - Rounds the numbers to 2 digits.\n",
    "    - Multiplies it by 100 and converts it to an integer.\n",
    "    - Converts it to a string and adds `%` at the end.\n",
    "    - Returns the resulting string.\n",
    "3. Create a new list called `percentages` which consists of `to_percentage` applied to each element of `proportions`. \n",
    "4. Add them to the plot using the `.text()` method.\n",
    "    - For the x coordinate, put the index of the bar (i.e. for the first bar put 0, the second 1, etc.)\n",
    "    - For the y coordinate, put the height of the corresponding bar in terms frequency.\n",
    "    - Add the argument `ha = \"center\"` to center the text.\n",
    "5. Show the plot.\n",
    "\n",
    "</div>"
   ]
  },
  {
   "cell_type": "markdown",
   "metadata": {},
   "source": [
    "# Conclusion\n",
    "\n",
    "You should now have a solid grasp of the fundamentals of plotting different types of data with Python. While the plot types we went over should cover the majority of your graphing needs, there are still more that can be found by looking at either [matplotlib's](https://matplotlib.org/3.1.1/index.html) or [seaborn's](https://seaborn.pydata.org/) documentation."
   ]
  }
 ],
 "metadata": {
  "kernelspec": {
   "display_name": "Python 3",
   "language": "python",
   "name": "python3"
  },
  "language_info": {
   "codemirror_mode": {
    "name": "ipython",
    "version": 3
   },
   "file_extension": ".py",
   "mimetype": "text/x-python",
   "name": "python",
   "nbconvert_exporter": "python",
   "pygments_lexer": "ipython3",
   "version": "3.7.3"
  }
 },
 "nbformat": 4,
 "nbformat_minor": 2
}
